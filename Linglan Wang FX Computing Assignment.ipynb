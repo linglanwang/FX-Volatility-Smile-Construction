{
 "cells": [
  {
   "cell_type": "markdown",
   "metadata": {},
   "source": [
    "##### (1) For every row of the table, calibrate the SABR model using the Hagan et. al. approximation for the implied volatility. Use a fixed β of 1. Construct all 5 strikes of the market instruments. Report in a neat table the strikes, implied volatilites at those strikes, and parameters of the SABR model."
   ]
  },
  {
   "cell_type": "code",
   "execution_count": 26,
   "metadata": {},
   "outputs": [
    {
     "name": "stdout",
     "output_type": "stream",
     "text": [
      "Using matplotlib backend: MacOSX\n",
      "Populating the interactive namespace from numpy and matplotlib\n"
     ]
    },
    {
     "name": "stderr",
     "output_type": "stream",
     "text": [
      "//anaconda3/lib/python3.7/site-packages/IPython/core/magics/pylab.py:160: UserWarning: pylab import has clobbered these variables: ['norm', 'beta']\n",
      "`%matplotlib` prevents importing * from pylab and numpy\n",
      "  \"\\n`%matplotlib` prevents importing * from pylab and numpy\"\n"
     ]
    }
   ],
   "source": [
    "%pylab\n",
    "import numpy as np\n",
    "import pandas as pd\n",
    "import scipy.optimize as opt\n",
    "from scipy.stats import norm\n",
    "from scipy.optimize import fsolve\n",
    "import pdb\n"
   ]
  },
  {
   "cell_type": "code",
   "execution_count": 27,
   "metadata": {},
   "outputs": [],
   "source": [
    "S=3.724 #The spot rate is 3.724 BRL per USD\n",
    "rf=0.022# usd interest rate=rf\n",
    "rd=0.065\n",
    "CALL=1\n",
    "PUT=-1 #use in w"
   ]
  },
  {
   "cell_type": "code",
   "execution_count": 28,
   "metadata": {},
   "outputs": [
    {
     "data": {
      "text/html": [
       "<div>\n",
       "<style scoped>\n",
       "    .dataframe tbody tr th:only-of-type {\n",
       "        vertical-align: middle;\n",
       "    }\n",
       "\n",
       "    .dataframe tbody tr th {\n",
       "        vertical-align: top;\n",
       "    }\n",
       "\n",
       "    .dataframe thead th {\n",
       "        text-align: right;\n",
       "    }\n",
       "</style>\n",
       "<table border=\"1\" class=\"dataframe\">\n",
       "  <thead>\n",
       "    <tr style=\"text-align: right;\">\n",
       "      <th></th>\n",
       "      <th>Expiry</th>\n",
       "      <th>ATM</th>\n",
       "      <th>RR</th>\n",
       "      <th>BF</th>\n",
       "    </tr>\n",
       "  </thead>\n",
       "  <tbody>\n",
       "    <tr>\n",
       "      <th>ON</th>\n",
       "      <td>0.002778</td>\n",
       "      <td>0.2098</td>\n",
       "      <td>0.0120</td>\n",
       "      <td>0.0015</td>\n",
       "    </tr>\n",
       "    <tr>\n",
       "      <th>1W</th>\n",
       "      <td>0.019444</td>\n",
       "      <td>0.1391</td>\n",
       "      <td>0.0130</td>\n",
       "      <td>0.0020</td>\n",
       "    </tr>\n",
       "    <tr>\n",
       "      <th>2W</th>\n",
       "      <td>0.038889</td>\n",
       "      <td>0.1375</td>\n",
       "      <td>0.0140</td>\n",
       "      <td>0.0020</td>\n",
       "    </tr>\n",
       "    <tr>\n",
       "      <th>1M</th>\n",
       "      <td>0.083333</td>\n",
       "      <td>0.1424</td>\n",
       "      <td>0.0150</td>\n",
       "      <td>0.0022</td>\n",
       "    </tr>\n",
       "    <tr>\n",
       "      <th>2M</th>\n",
       "      <td>0.166667</td>\n",
       "      <td>0.1384</td>\n",
       "      <td>0.0175</td>\n",
       "      <td>0.0027</td>\n",
       "    </tr>\n",
       "    <tr>\n",
       "      <th>3M</th>\n",
       "      <td>0.250000</td>\n",
       "      <td>0.1382</td>\n",
       "      <td>0.0200</td>\n",
       "      <td>0.0032</td>\n",
       "    </tr>\n",
       "    <tr>\n",
       "      <th>6M</th>\n",
       "      <td>0.500000</td>\n",
       "      <td>0.1382</td>\n",
       "      <td>0.0240</td>\n",
       "      <td>0.0043</td>\n",
       "    </tr>\n",
       "    <tr>\n",
       "      <th>1Y</th>\n",
       "      <td>1.000000</td>\n",
       "      <td>0.1394</td>\n",
       "      <td>0.0290</td>\n",
       "      <td>0.0055</td>\n",
       "    </tr>\n",
       "  </tbody>\n",
       "</table>\n",
       "</div>"
      ],
      "text/plain": [
       "      Expiry     ATM      RR      BF\n",
       "ON  0.002778  0.2098  0.0120  0.0015\n",
       "1W  0.019444  0.1391  0.0130  0.0020\n",
       "2W  0.038889  0.1375  0.0140  0.0020\n",
       "1M  0.083333  0.1424  0.0150  0.0022\n",
       "2M  0.166667  0.1384  0.0175  0.0027\n",
       "3M  0.250000  0.1382  0.0200  0.0032\n",
       "6M  0.500000  0.1382  0.0240  0.0043\n",
       "1Y  1.000000  0.1394  0.0290  0.0055"
      ]
     },
     "execution_count": 28,
     "metadata": {},
     "output_type": "execute_result"
    }
   ],
   "source": [
    "Tenors = ['ON', '1W', '2W', '1M', '2M', '3M', '6M', '1Y']\n",
    "Expiry = np.array([1, 7, 14, 30, 60, 90, 180, 360])/360\n",
    "ATM = np.array([20.98, 13.91, 13.75, 14.24, 13.84, 13.82, 13.82, 13.94])/ 100\n",
    "RR_25d = np.array([1.2, 1.3, 1.4, 1.5, 1.75, 2.0, 2.4, 2.9])/ 100\n",
    "BF_25d = np.array([0.15, 0.20, 0.20, 0.22, 0.27, 0.32, 0.43, 0.55]) / 100\n",
    "\n",
    "Volatility = pd.DataFrame(np.array([Expiry, ATM, RR_25d, BF_25d]).T, index=Tenors, columns=['Expiry', 'ATM', 'RR', 'BF'])\n",
    "Volatility"
   ]
  },
  {
   "cell_type": "code",
   "execution_count": null,
   "metadata": {},
   "outputs": [],
   "source": []
  },
  {
   "cell_type": "markdown",
   "metadata": {},
   "source": [
    "$$\n",
    "K_{ATM}=Se^{-\\frac{1}{2} \\sigma^{2}T+\\left(R_{d}-R{f}\\right)T} \n",
    "$$\n"
   ]
  },
  {
   "cell_type": "code",
   "execution_count": 29,
   "metadata": {},
   "outputs": [],
   "source": [
    "def ATM_K(T,vol):\n",
    "    'Try to find the Strike in ATM'\n",
    "    return np.exp(-0.5*(vol**2)*T+(rd-rf)*T)*S\n",
    "\n"
   ]
  },
  {
   "cell_type": "markdown",
   "metadata": {},
   "source": [
    "\n",
    "$$\n",
    "d_{2}=\\frac{\\log (S / K)+\\left(R_{d}-R_{f}-\\frac{1}{2} \\sigma \\right)T}{\\sigma \\sqrt{T}}\n",
    "$$\n",
    "\n",
    "$$\n",
    "delta_{Call}=\\frac{K}{S}e^{-r_{f}T}N\\left(d_{2}\\right)\n",
    "$$\n",
    "$$\n",
    "delta_{Put}=-\\frac{K}{S}e^{-r_{f}T}N\\left(-d_{2}\\right)\n",
    "$$"
   ]
  },
  {
   "cell_type": "code",
   "execution_count": 30,
   "metadata": {},
   "outputs": [],
   "source": [
    "def get_delta(sigma,K,T,w):\n",
    "    'Try to get the delta'\n",
    "    d2 = (np.log(S / K) + (rd - rf - .5 * sigma * sigma) * T) / (sigma*np.sqrt(T))\n",
    "    return w * K * np.exp(-rf * T) / S * norm.cdf(w * d2)\n"
   ]
  },
  {
   "cell_type": "code",
   "execution_count": 31,
   "metadata": {},
   "outputs": [],
   "source": [
    "def Solve_K(delta, T, vol, w,k0):\n",
    "\n",
    "    def get_delta_diff(K):\n",
    "        'Try to find optimized K'\n",
    "        d2 = (np.log(S/K) + (rd-rf-.5*(vol**2))*T) / (vol*np.sqrt(T))\n",
    "        return w * K * np.exp(-rd*T) / S * norm.cdf(w*d2) - delta\n",
    "\n",
    "    return fsolve(get_delta_diff, k0)\n"
   ]
  },
  {
   "cell_type": "code",
   "execution_count": 32,
   "metadata": {},
   "outputs": [
    {
     "data": {
      "text/plain": [
       "array([3.72421716, 3.72641393, 3.7288615 , 3.73421188, 3.74480225,\n",
       "       3.75527288, 3.78680838, 3.85003477])"
      ]
     },
     "execution_count": 32,
     "metadata": {},
     "output_type": "execute_result"
    }
   ],
   "source": [
    "ATM_K = np.array([ATM_K(T=t, vol=a) for a, t in zip(ATM, Expiry)]).flatten()\n",
    "ATM_K\n"
   ]
  },
  {
   "cell_type": "code",
   "execution_count": 33,
   "metadata": {},
   "outputs": [
    {
     "data": {
      "text/plain": [
       "array([3.69658999, 3.678049  , 3.66181241, 3.63403487, 3.60884045,\n",
       "       3.59064525, 3.55921071, 3.5368504 ])"
      ]
     },
     "execution_count": 33,
     "metadata": {},
     "output_type": "execute_result"
    }
   ],
   "source": [
    "\n",
    "K_BFPut = np.array([Solve_K(-0.25, t, v,PUT,S) for t, v in zip(Expiry, ATM + BF_25d)]).flatten()\n",
    "\n",
    "K_BFPut\n"
   ]
  },
  {
   "cell_type": "code",
   "execution_count": 34,
   "metadata": {},
   "outputs": [
    {
     "data": {
      "text/plain": [
       "array([3.75253806, 3.77692458, 3.80010537, 3.84404044, 3.89906627,\n",
       "       3.94736798, 4.06978408, 4.27707391])"
      ]
     },
     "execution_count": 34,
     "metadata": {},
     "output_type": "execute_result"
    }
   ],
   "source": [
    "\n",
    "K_BFCall = np.array([Solve_K(0.25, t, v, CALL,S) for t, v in zip(Expiry, ATM + BF_25d)]).flatten()\n",
    "\n",
    "K_BFCall\n"
   ]
  },
  {
   "cell_type": "markdown",
   "metadata": {},
   "source": [
    "$$\n",
    "\\begin{array}{l}\n",
    "\\sigma_{I V}\\left(K, t_{e}\\right) \\\\\n",
    "\\begin{array}{c}\n",
    "\\simeq \\frac{\\alpha}{(F K)^{(1-\\beta) / 2\\left\\{1+\\frac{(1-\\beta)^{2}}{24} \\log ^{2} F / K+\\frac{(1-\\beta)^{4}}{1920} \\log ^{4} F / K\\right\\}}} \\\\\n",
    "\\qquad \\begin{array}{c}\n",
    "\\hat{\\alpha}(0)=\\alpha \\\\\n",
    "\\qquad\\left(\\frac{z}{x(z)}\\right) \\cdot\\left\\{1+\\left[\\frac{(1-\\beta)^{2}}{24} \\frac{\\alpha^{2}}{(F K)^{1-\\beta}}+\\frac{1}{4} \\frac{\\rho \\beta \\nu \\alpha}{(F K)^{(1-\\beta) / 2}}+\\frac{2-3 \\rho^{2}}{24} \\nu^{2}\\right] t_{e}\\right\\}\n",
    "\\end{array} \\\\\n",
    "z=\\frac{\\nu}{\\alpha}(F K)^{(1-\\beta) / 2} \\log F / K \\\\\n",
    "x(z)=\\log \\left(\\frac{\\sqrt{1-2 \\rho z+z^{2}}+z-\\rho}{1-\\rho}\\right)\n",
    "\\end{array}\n",
    "\\end{array}\n",
    "$$"
   ]
  },
  {
   "cell_type": "code",
   "execution_count": 35,
   "metadata": {},
   "outputs": [],
   "source": [
    "def SABR_vol(a, v, rho, K, T, b):\n",
    "\n",
    "    F = S * np.exp((rd - rf) * T)\n",
    "    z = v / a * (F * K) ** ((1 - b) / 2) * np.log(F / K)\n",
    "    x = np.log((np.sqrt(1 - 2 * rho * z + z ** 2) + z - rho) / (1 - rho))\n",
    "    vol = a / ((F * K) ** ((1 - b) / 2) * (\n",
    "            1 + (1 - b) ** 2 / 24 * (np.log(F / K)) ** 2 + (1 - b) ** 4 / 1920 * (np.log(F / K)) ** 4)) * (z / x) * (\n",
    "                      1 + ((1 - b) ** 2 / 24 * a ** 2 / (F * K) ** (1 - b) + 1 / 4 * rho * b * v * a / (F * K) ** (\n",
    "                      (1 - b) / 2) + (2 - 3 * rho ** 2) / 24 * v ** 2) * T)\n",
    "    return vol"
   ]
  },
  {
   "cell_type": "markdown",
   "metadata": {},
   "source": [
    "$$\n",
    "d_{1}=\\frac{\\log (S / K)+\\left(R_{d}-R_{f}+\\frac{1}{2} \\sigma \\right)T}{\\sigma \\sqrt{T}}\n",
    "$$\n",
    "$$\n",
    "d_{2}=\\frac{\\log (S / K)+\\left(R_{d}-R_{f}-\\frac{1}{2} \\sigma \\right)T}{\\sigma \\sqrt{T}}\n",
    "$$\n",
    "\n",
    "$$\n",
    "BS_{call}=SN\\left(d_{1}\\right)-e^{-\\left(r_{d}-r_{f}\\right)T}KN\\left(d_{2}\\right)\n",
    "$$\n",
    "\n",
    "$$\n",
    "BS_{Put}=-SN\\left(d_{1}\\right)+e^{-\\left(r_{d}-r_{f}\\right)T}KN\\left(d_{2}\\right)\n",
    "$$"
   ]
  },
  {
   "cell_type": "code",
   "execution_count": 36,
   "metadata": {},
   "outputs": [],
   "source": [
    "def BS_price(vol,K,T,w):\n",
    "    d1 = (np.log(S / K) + (rd - rf + .5 * vol**2) * T) / (vol* np.sqrt(T))\n",
    "    d2 = (np.log(S / K) + (rd - rf - .5 * vol**2) * T) / (vol *np.sqrt(T))\n",
    "    return w*S*norm.cdf(w*d1)-w*np.exp(-(rd-rf)*T)*K*norm.cdf(w*d2)"
   ]
  },
  {
   "cell_type": "markdown",
   "metadata": {},
   "source": [
    "$$\n",
    "\\begin{array}{c}\n",
    "IV\\left(K_{ATM}\\right)=atm\\\\\n",
    "P^{m k t}\\left(K_{B F P u t}\\right)+C^{m k t}\\left(K_{B F C a l l}\\right)= \n",
    "P^{B S}\\left(A T M+B F, K_{B F P u t}\\right)+C^{B S}\\left(A T M+B F, K_{B F C a l l}\\right) \\\\\n",
    "IV\\left(K_{R R C a l l}\\right)-I V\\left(K_{R R P u t}\\right)=R R \\\\\n",
    "\\Delta_{C}\\left(I V\\left(K_{R R C a l l}, K_{R R C a l l}\\right)\\right)=\\delta=0.25\\\\\n",
    "\\Delta_{P}\\left(I V\\left(K_{R R P u t}, K_{R R P u t}\\right)\\right)=\\delta=-0.25\\\\\n",
    "\\Delta_{C}\\left(I V\\left(K_{ATM+BF C a l l}, K_{ATM+BF C a l l}\\right)\\right)=\\delta=0.25\\\\\n",
    "\\Delta_{P}\\left(I V\\left(K_{ATM+BF P u t}, K_{ATM+BF P u t}\\right)\\right)=\\delta=-0.25\n",
    "\\end{array}\n",
    "$$"
   ]
  },
  {
   "cell_type": "code",
   "execution_count": 37,
   "metadata": {},
   "outputs": [],
   "source": [
    "beta=1\n",
    "CALL=1\n",
    "PUT=-1\n",
    "def Find_Market_Instruments(atm, rr, bf, atm_k, bf_call_k, bf_put_k, T):\n",
    "    def solve_SABR(x):\n",
    "        '''x[0] is alpha,\n",
    "           x[1] is vega\n",
    "           x[2] is rho\n",
    "           x[3] is strike for rr_call\n",
    "           x[4] is strike for rr_put'''\n",
    "        \n",
    "        ''' condition 1: the vol of ATM_strike under SABR should equal to market atm vol\n",
    "            condition 2: the sum of BF call prcie and BF put price should equal to the sum of call and put under BS price for the samke strike\n",
    "            condition 3: delta of RR call is 0.25\n",
    "            condition 4: delta of RR put is -0.25\n",
    "            conditiion 5: vol of RR_call -vol of RR_put=RR\n",
    "            condition 6: delta of atm+bf call =0.25\n",
    "            condition 7: delta of atm_bf put =-0.25\n",
    "            condition 8: (vol of BF_CALL+vol of BF_PUT)/2-atm unnder SABR =bf\n",
    "            \n",
    "            '''\n",
    "        \n",
    "        beta=1\n",
    "        \n",
    "        return np.array([SABR_vol(x[0], x[1], x[2], atm_k, T, beta) - atm, #1\n",
    "                         \n",
    "                         BS_price(SABR_vol(x[0], x[1], x[2], bf_call_k, T, beta),bf_call_k, T, CALL) - \n",
    "                         BS_price(atm + bf, bf_call_k, T, CALL)+\n",
    "                         BS_price(SABR_vol(x[0], x[1], x[2], bf_put_k, T, beta), bf_put_k, T, PUT)-\n",
    "                         BS_price(atm + bf, bf_put_k, T, PUT),#2\n",
    "                        \n",
    "                         get_delta(SABR_vol(x[0], x[1], x[2], x[3], T, beta), x[3], T, CALL) - 0.25,#3\n",
    "\n",
    "                         get_delta(SABR_vol(x[0], x[1], x[2], x[4], T, beta), x[4], T, PUT) + 0.25,#4\n",
    " \n",
    "                         SABR_vol(x[0], x[1], x[2], x[3], T, beta) - SABR_vol(x[0], x[1], x[2], x[4], T, beta) - rr,#5\n",
    "                         \n",
    "                         get_delta(atm+bf,bf_call_k,T,CALL)-0.25,#6\n",
    "                         get_delta(atm+bf,bf_put_k,T,PUT)+0.25,#7\n",
    "                         \n",
    "                         #(SABR_vol(x[0], x[1], x[2],bf_call_k,T,beta)+SABR_vol(x[0], x[1], x[2],bf_put_k,T,beta))/2 - SABR_vol(x[0], x[1], x[2], atm_k, T, beta)-bf #8\n",
    "             \n",
    "                         ]) **2\n",
    "    \n",
    "\n",
    "    return opt.least_squares(solve_SABR, x0=np.array([.1, 2, 0.1, 4, 3]),\n",
    "                             bounds=([0, 0, -1, 0, 0], [np.inf, np.inf, 1, np.inf, np.inf])).x\n",
    "\n",
    "w\n"
   ]
  },
  {
   "cell_type": "code",
   "execution_count": 38,
   "metadata": {},
   "outputs": [
    {
     "data": {
      "text/plain": [
       "array([[0.20920253, 4.42066202, 0.34822492, 3.75327175, 3.69731123],\n",
       "       [0.13898494, 2.48446245, 0.37665962, 3.77936988, 3.68012267],\n",
       "       [0.13861421, 1.51136797, 0.46848326, 3.8041921 , 3.66453728],\n",
       "       [0.13765693, 2.14046501, 0.23369525, 3.85111658, 3.63791147],\n",
       "       [0.13730913, 1.37597735, 0.25778313, 3.91274235, 3.611996  ],\n",
       "       [0.13391545, 1.2405287 , 0.31498987, 3.96441763, 3.59952578],\n",
       "       [0.13086052, 1.07908504, 0.293106  , 4.10399085, 3.5707586 ],\n",
       "       [0.13304268, 0.75412481, 0.35602323, 4.34768215, 3.55189213]])"
      ]
     },
     "execution_count": 38,
     "metadata": {},
     "output_type": "execute_result"
    }
   ],
   "source": [
    "\n",
    "data_1=np.array([Find_Market_Instruments(ATM[i], RR_25d[i], BF_25d[i], ATM_K[i], K_BFCall[i], K_BFPut[i], Expiry[i]) for i in range(8)])\n",
    "data_1"
   ]
  },
  {
   "cell_type": "code",
   "execution_count": 39,
   "metadata": {},
   "outputs": [],
   "source": [
    "alpha_set=[]\n",
    "vega_set=[]\n",
    "rho_set=[]\n",
    "K_rr_call_set=[]\n",
    "K_rr_Put_set=[]\n",
    "for i in data_1:\n",
    "    alpha_set.append(i[0])\n",
    "    vega_set.append(i[1])\n",
    "    rho_set.append(i[2])\n",
    "    K_rr_call_set.append(i[3])\n",
    "    K_rr_Put_set.append(i[4])"
   ]
  },
  {
   "cell_type": "code",
   "execution_count": 40,
   "metadata": {},
   "outputs": [],
   "source": [
    "vol_atm=np.array([SABR_vol(alpha_set[i],vega_set[i],rho_set[i],ATM_K[i],Expiry[i],1) for i in range(8)])\n",
    "vol_bf_call=np.array([SABR_vol(alpha_set[i],vega_set[i],rho_set[i],K_BFCall[i],Expiry[i],1) for i in range(8)])\n",
    "vol_bf_put=np.array([SABR_vol(alpha_set[i],vega_set[i],rho_set[i],K_BFPut[i],Expiry[i],1) for i in range(8)])\n",
    "vol_rr_call=np.array([SABR_vol(alpha_set[i],vega_set[i],rho_set[i],K_rr_call_set[i],Expiry[i],1) for i in range(8)])\n",
    "vol_rr_put=np.array([SABR_vol(alpha_set[i],vega_set[i],rho_set[i],K_rr_Put_set[i],Expiry[i],1) for i in range(8)])\n"
   ]
  },
  {
   "cell_type": "code",
   "execution_count": 41,
   "metadata": {},
   "outputs": [
    {
     "data": {
      "text/plain": [
       "[1.0, 1.0, 1.0, 1.0, 1.0, 1.0, 1.0, 1.0]"
      ]
     },
     "execution_count": 41,
     "metadata": {},
     "output_type": "execute_result"
    }
   ],
   "source": [
    "Beta_set=[1. for i in range(8)]\n",
    "Beta_set"
   ]
  },
  {
   "cell_type": "code",
   "execution_count": 42,
   "metadata": {},
   "outputs": [],
   "source": [
    "Expiry_list = [1/360, 7/360, 14/360, 30/360, 60/360, 90/360, 180/360, 360/360]\n",
    "\n",
    "result=pd.DataFrame({'Time':Expiry_list,\"Alpha\":alpha_set,\"Beta\":Beta_set,\"Vega\":vega_set,\"Rho\":rho_set,\"ATM_K\":ATM_K,\"K_RR_Call\":K_rr_call_set,\n",
    "                    \"K_RR_Put\":K_rr_Put_set,\"K_BF_Call\":K_BFCall,\"K_BF_Put\":K_rr_Put_set,\"Vol_ATM\":vol_atm,\n",
    "                    \"Vol_RR_Call\":vol_rr_call,\"Vol_RR_Put\":vol_rr_put,\"Vol_BF_Call\":vol_bf_call,\"Vol_BF_Put\":vol_bf_put},index=Tenors)"
   ]
  },
  {
   "cell_type": "code",
   "execution_count": 43,
   "metadata": {},
   "outputs": [
    {
     "data": {
      "text/html": [
       "<div>\n",
       "<style scoped>\n",
       "    .dataframe tbody tr th:only-of-type {\n",
       "        vertical-align: middle;\n",
       "    }\n",
       "\n",
       "    .dataframe tbody tr th {\n",
       "        vertical-align: top;\n",
       "    }\n",
       "\n",
       "    .dataframe thead th {\n",
       "        text-align: right;\n",
       "    }\n",
       "</style>\n",
       "<table border=\"1\" class=\"dataframe\">\n",
       "  <thead>\n",
       "    <tr style=\"text-align: right;\">\n",
       "      <th></th>\n",
       "      <th>Time</th>\n",
       "      <th>Alpha</th>\n",
       "      <th>Beta</th>\n",
       "      <th>Vega</th>\n",
       "      <th>Rho</th>\n",
       "      <th>ATM_K</th>\n",
       "      <th>K_RR_Call</th>\n",
       "      <th>K_RR_Put</th>\n",
       "      <th>K_BF_Call</th>\n",
       "      <th>K_BF_Put</th>\n",
       "      <th>Vol_ATM</th>\n",
       "      <th>Vol_RR_Call</th>\n",
       "      <th>Vol_RR_Put</th>\n",
       "      <th>Vol_BF_Call</th>\n",
       "      <th>Vol_BF_Put</th>\n",
       "    </tr>\n",
       "  </thead>\n",
       "  <tbody>\n",
       "    <tr>\n",
       "      <th>ON</th>\n",
       "      <td>0.002778</td>\n",
       "      <td>0.209203</td>\n",
       "      <td>1.0</td>\n",
       "      <td>4.420662</td>\n",
       "      <td>0.348225</td>\n",
       "      <td>3.724217</td>\n",
       "      <td>3.753272</td>\n",
       "      <td>3.697311</td>\n",
       "      <td>3.752538</td>\n",
       "      <td>3.697311</td>\n",
       "      <td>0.209976</td>\n",
       "      <td>0.216684</td>\n",
       "      <td>0.205103</td>\n",
       "      <td>0.216499</td>\n",
       "      <td>0.204993</td>\n",
       "    </tr>\n",
       "    <tr>\n",
       "      <th>1W</th>\n",
       "      <td>0.019444</td>\n",
       "      <td>0.138985</td>\n",
       "      <td>1.0</td>\n",
       "      <td>2.484462</td>\n",
       "      <td>0.376660</td>\n",
       "      <td>3.726414</td>\n",
       "      <td>3.779370</td>\n",
       "      <td>3.680123</td>\n",
       "      <td>3.776925</td>\n",
       "      <td>3.680123</td>\n",
       "      <td>0.140079</td>\n",
       "      <td>0.147736</td>\n",
       "      <td>0.135227</td>\n",
       "      <td>0.147345</td>\n",
       "      <td>0.135061</td>\n",
       "    </tr>\n",
       "    <tr>\n",
       "      <th>2W</th>\n",
       "      <td>0.038889</td>\n",
       "      <td>0.138614</td>\n",
       "      <td>1.0</td>\n",
       "      <td>1.511368</td>\n",
       "      <td>0.468483</td>\n",
       "      <td>3.728862</td>\n",
       "      <td>3.804192</td>\n",
       "      <td>3.664537</td>\n",
       "      <td>3.800105</td>\n",
       "      <td>3.664537</td>\n",
       "      <td>0.139304</td>\n",
       "      <td>0.147047</td>\n",
       "      <td>0.133766</td>\n",
       "      <td>0.146602</td>\n",
       "      <td>0.133561</td>\n",
       "    </tr>\n",
       "    <tr>\n",
       "      <th>1M</th>\n",
       "      <td>0.083333</td>\n",
       "      <td>0.137657</td>\n",
       "      <td>1.0</td>\n",
       "      <td>2.140465</td>\n",
       "      <td>0.233695</td>\n",
       "      <td>3.734212</td>\n",
       "      <td>3.851117</td>\n",
       "      <td>3.637911</td>\n",
       "      <td>3.844040</td>\n",
       "      <td>3.637911</td>\n",
       "      <td>0.141661</td>\n",
       "      <td>0.153555</td>\n",
       "      <td>0.139042</td>\n",
       "      <td>0.152654</td>\n",
       "      <td>0.139103</td>\n",
       "    </tr>\n",
       "    <tr>\n",
       "      <th>2M</th>\n",
       "      <td>0.166667</td>\n",
       "      <td>0.137309</td>\n",
       "      <td>1.0</td>\n",
       "      <td>1.375977</td>\n",
       "      <td>0.257783</td>\n",
       "      <td>3.744802</td>\n",
       "      <td>3.912742</td>\n",
       "      <td>3.611996</td>\n",
       "      <td>3.899066</td>\n",
       "      <td>3.611996</td>\n",
       "      <td>0.140554</td>\n",
       "      <td>0.151727</td>\n",
       "      <td>0.137267</td>\n",
       "      <td>0.150625</td>\n",
       "      <td>0.137266</td>\n",
       "    </tr>\n",
       "    <tr>\n",
       "      <th>3M</th>\n",
       "      <td>0.250000</td>\n",
       "      <td>0.133915</td>\n",
       "      <td>1.0</td>\n",
       "      <td>1.240529</td>\n",
       "      <td>0.314990</td>\n",
       "      <td>3.755273</td>\n",
       "      <td>3.964418</td>\n",
       "      <td>3.599526</td>\n",
       "      <td>3.947368</td>\n",
       "      <td>3.599526</td>\n",
       "      <td>0.137537</td>\n",
       "      <td>0.152035</td>\n",
       "      <td>0.132807</td>\n",
       "      <td>0.150656</td>\n",
       "      <td>0.132758</td>\n",
       "    </tr>\n",
       "    <tr>\n",
       "      <th>6M</th>\n",
       "      <td>0.500000</td>\n",
       "      <td>0.130861</td>\n",
       "      <td>1.0</td>\n",
       "      <td>1.079085</td>\n",
       "      <td>0.293106</td>\n",
       "      <td>3.786808</td>\n",
       "      <td>4.103991</td>\n",
       "      <td>3.570759</td>\n",
       "      <td>4.069784</td>\n",
       "      <td>3.570759</td>\n",
       "      <td>0.136309</td>\n",
       "      <td>0.155425</td>\n",
       "      <td>0.132718</td>\n",
       "      <td>0.152980</td>\n",
       "      <td>0.132839</td>\n",
       "    </tr>\n",
       "    <tr>\n",
       "      <th>1Y</th>\n",
       "      <td>1.000000</td>\n",
       "      <td>0.133043</td>\n",
       "      <td>1.0</td>\n",
       "      <td>0.754125</td>\n",
       "      <td>0.356023</td>\n",
       "      <td>3.850035</td>\n",
       "      <td>4.347682</td>\n",
       "      <td>3.551892</td>\n",
       "      <td>4.277074</td>\n",
       "      <td>3.551892</td>\n",
       "      <td>0.138030</td>\n",
       "      <td>0.160482</td>\n",
       "      <td>0.132487</td>\n",
       "      <td>0.156912</td>\n",
       "      <td>0.132479</td>\n",
       "    </tr>\n",
       "  </tbody>\n",
       "</table>\n",
       "</div>"
      ],
      "text/plain": [
       "        Time     Alpha  Beta      Vega       Rho     ATM_K  K_RR_Call  \\\n",
       "ON  0.002778  0.209203   1.0  4.420662  0.348225  3.724217   3.753272   \n",
       "1W  0.019444  0.138985   1.0  2.484462  0.376660  3.726414   3.779370   \n",
       "2W  0.038889  0.138614   1.0  1.511368  0.468483  3.728862   3.804192   \n",
       "1M  0.083333  0.137657   1.0  2.140465  0.233695  3.734212   3.851117   \n",
       "2M  0.166667  0.137309   1.0  1.375977  0.257783  3.744802   3.912742   \n",
       "3M  0.250000  0.133915   1.0  1.240529  0.314990  3.755273   3.964418   \n",
       "6M  0.500000  0.130861   1.0  1.079085  0.293106  3.786808   4.103991   \n",
       "1Y  1.000000  0.133043   1.0  0.754125  0.356023  3.850035   4.347682   \n",
       "\n",
       "    K_RR_Put  K_BF_Call  K_BF_Put   Vol_ATM  Vol_RR_Call  Vol_RR_Put  \\\n",
       "ON  3.697311   3.752538  3.697311  0.209976     0.216684    0.205103   \n",
       "1W  3.680123   3.776925  3.680123  0.140079     0.147736    0.135227   \n",
       "2W  3.664537   3.800105  3.664537  0.139304     0.147047    0.133766   \n",
       "1M  3.637911   3.844040  3.637911  0.141661     0.153555    0.139042   \n",
       "2M  3.611996   3.899066  3.611996  0.140554     0.151727    0.137267   \n",
       "3M  3.599526   3.947368  3.599526  0.137537     0.152035    0.132807   \n",
       "6M  3.570759   4.069784  3.570759  0.136309     0.155425    0.132718   \n",
       "1Y  3.551892   4.277074  3.551892  0.138030     0.160482    0.132487   \n",
       "\n",
       "    Vol_BF_Call  Vol_BF_Put  \n",
       "ON     0.216499    0.204993  \n",
       "1W     0.147345    0.135061  \n",
       "2W     0.146602    0.133561  \n",
       "1M     0.152654    0.139103  \n",
       "2M     0.150625    0.137266  \n",
       "3M     0.150656    0.132758  \n",
       "6M     0.152980    0.132839  \n",
       "1Y     0.156912    0.132479  "
      ]
     },
     "execution_count": 43,
     "metadata": {},
     "output_type": "execute_result"
    }
   ],
   "source": [
    "result"
   ]
  },
  {
   "cell_type": "code",
   "execution_count": 44,
   "metadata": {},
   "outputs": [],
   "source": [
    "result.to_csv(\"Result.csv\")"
   ]
  },
  {
   "cell_type": "markdown",
   "metadata": {},
   "source": [
    "(b)For every row of the table, find strikes for put delta of −10% and call delta of 10%. Create of graph of implied volatiltiy vs. strike for this range of strikes."
   ]
  },
  {
   "cell_type": "markdown",
   "metadata": {},
   "source": [
    "##### way 1:"
   ]
  },
  {
   "cell_type": "code",
   "execution_count": 45,
   "metadata": {},
   "outputs": [],
   "source": [
    "alpha_10=alpha_set[-1]\n",
    "vega_10=vega_set[-1]\n",
    "rho_10=rho_set[-1]\n",
    "\n"
   ]
  },
  {
   "cell_type": "code",
   "execution_count": 46,
   "metadata": {},
   "outputs": [
    {
     "name": "stdout",
     "output_type": "stream",
     "text": [
      "K_10_Call is5.014403184873235\n",
      "K_10_Put is3.2836440879579087\n"
     ]
    }
   ],
   "source": [
    "def solve_K_10(delta,w):\n",
    "    def K_function_10(K):\n",
    "        vol_10=SABR_vol(alpha_10,vega_10,rho_10,K,1,1)\n",
    "        return Solve_K(delta,1,vol_10,w,S)-K\n",
    "    return fsolve(K_function_10,S)\n",
    "\n",
    "K_10_Call=solve_K_10(delta=0.1,w=CALL)[0]\n",
    "print(\"K_10_Call is\"+str(K_10_Call))\n",
    "K_10_Put=solve_K_10(delta=-0.1,w=PUT)[0]\n",
    "print(\"K_10_Put is\"+str(K_10_Put))"
   ]
  },
  {
   "cell_type": "markdown",
   "metadata": {},
   "source": [
    "#####  way 2:"
   ]
  },
  {
   "cell_type": "markdown",
   "metadata": {},
   "source": [
    "\n",
    "$$\n",
    "d_{2}=\\frac{\\log (S / K)+\\left(R_{d}-R_{f}-\\frac{1}{2} \\sigma \\right)T}{\\sigma \\sqrt{T}}\n",
    "$$\n",
    "\n",
    "$$\n",
    "delta_{Call}=\\frac{K}{S}e^{-r_{f}T}N\\left(d_{2}\\right)\n",
    "$$\n",
    "$$\n",
    "delta_{Put}=-\\frac{K}{S}e^{-r_{f}T}N\\left(-d_{2}\\right)\n",
    "$$"
   ]
  },
  {
   "cell_type": "code",
   "execution_count": 47,
   "metadata": {},
   "outputs": [],
   "source": [
    "def get_delta_d(K):\n",
    "    sigma=SABR_vol(alpha, vega,rho,K,T,1)\n",
    "\n",
    "    d2 = (np.log(S / K) + (rd - rf - .5 * sigma * sigma) * T) / (sigma*np.sqrt(T))\n",
    "    return w * K * np.exp(-rf * T) / S * norm.cdf(w * d2)-w*0.1\n"
   ]
  },
  {
   "cell_type": "code",
   "execution_count": 48,
   "metadata": {},
   "outputs": [],
   "source": [
    "c=[]\n",
    "p=[]\n",
    "for i in range(8):\n",
    "    alpha=alpha_set[i]\n",
    "    vega=vega_set[i]\n",
    "    rho=rho_set[i]\n",
    "    T=Expiry_list[i]\n",
    "    w=1\n",
    "    K_call = fsolve(get_delta_d,S)[0]\n",
    "    c.append(K_call)\n",
    "    w=-1\n",
    "    K_put = fsolve(get_delta_d,S)[0]\n",
    "    p.append(K_put)\n",
    "    strikes = np.arange(K_put,K_call,.001)\n",
    "    vols = [SABR_vol(alpha,vega,rho,j,T,1)*100 for j in strikes]\n",
    "    plt.plot(strikes,vols)\n",
    "plt.legend(Tenors)\n",
    "plt.show()"
   ]
  },
  {
   "cell_type": "code",
   "execution_count": 23,
   "metadata": {},
   "outputs": [
    {
     "name": "stdout",
     "output_type": "stream",
     "text": [
      "K_10_Call is5.051726989545236\n",
      "K_10_Put is3.2715631328211137\n"
     ]
    }
   ],
   "source": [
    "\n",
    "print(\"K_10_Call is\"+str(K_call))\n",
    "K_10_Put=solve_K_10(delta=-0.1,w=PUT)[0]\n",
    "print(\"K_10_Put is\"+str(K_put))"
   ]
  },
  {
   "cell_type": "code",
   "execution_count": null,
   "metadata": {},
   "outputs": [],
   "source": []
  },
  {
   "cell_type": "code",
   "execution_count": null,
   "metadata": {},
   "outputs": [],
   "source": []
  },
  {
   "cell_type": "code",
   "execution_count": null,
   "metadata": {},
   "outputs": [],
   "source": []
  }
 ],
 "metadata": {
  "kernelspec": {
   "display_name": "Python 3",
   "language": "python",
   "name": "python3"
  },
  "language_info": {
   "codemirror_mode": {
    "name": "ipython",
    "version": 3
   },
   "file_extension": ".py",
   "mimetype": "text/x-python",
   "name": "python",
   "nbconvert_exporter": "python",
   "pygments_lexer": "ipython3",
   "version": "3.8.3"
  }
 },
 "nbformat": 4,
 "nbformat_minor": 2
}
